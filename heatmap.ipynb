{
  "nbformat": 4,
  "nbformat_minor": 0,
  "metadata": {
    "colab": {
      "provenance": [],
      "mount_file_id": "1fP2a5a0GPiQHc6EjuDO-b6MM3e8NJ_oF",
      "authorship_tag": "ABX9TyNBLtMK3hzpVPiTbBGrfcz0",
      "include_colab_link": true
    },
    "kernelspec": {
      "name": "python3",
      "display_name": "Python 3"
    },
    "language_info": {
      "name": "python"
    }
  },
  "cells": [
    {
      "cell_type": "markdown",
      "metadata": {
        "id": "view-in-github",
        "colab_type": "text"
      },
      "source": [
        "<a href=\"https://colab.research.google.com/github/tuntul17/FIZ425E/blob/main/heatmap.ipynb\" target=\"_parent\"><img src=\"https://colab.research.google.com/assets/colab-badge.svg\" alt=\"Open In Colab\"/></a>"
      ]
    },
    {
      "cell_type": "code",
      "execution_count": 2,
      "metadata": {
        "id": "Plzyan2Z4BUm"
      },
      "outputs": [],
      "source": [
        "import pandas as pd\n",
        "from folium.plugins import HeatMap\n",
        "import folium\n",
        "\n",
        "df = pd.read_csv(\"/content/drive/MyDrive/Colab Notebooks/Cycling-adventures/data/output_data/convertedrides.csv\")"
      ]
    },
    {
      "cell_type": "code",
      "source": [
        "position_lat = df[\"position_lat\"].mean()\n",
        "position_long = df[\"position_long\"].mean()\n",
        "\n",
        "df[\"position_long\"] = df[\"position_long\"].fillna(position_long)\n",
        "df[\"position_lat\"] = df[\"position_lat\"].fillna(position_lat)"
      ],
      "metadata": {
        "id": "UR93g-Ip-uok"
      },
      "execution_count": 4,
      "outputs": []
    },
    {
      "cell_type": "code",
      "source": [
        "#Create a map centered at a specific location (e.g., the mean coordinates of your data)\n",
        "map_center = [df['position_lat'].mean(), df['position_long'].mean()]\n",
        "m = folium.Map(location=map_center, zoom_start=10)\n",
        "#Create a list of latitude and longitude coordinates as a list of lists\n",
        "heat_data = [[row['position_lat'], row['position_long']] for index, row in df.iterrows()]\n",
        "heatmap_layer = HeatMap(heat_data, radius=8)\n",
        "#Add the heatmap layer to the map\n",
        "heatmap_layer.add_to(m)\n",
        "#Save the map as an HTML file\n",
        "m.save('/content/drive/MyDrive/Colab Notebooks/Cycling-adventures/data/output_data/roadmap.html')"
      ],
      "metadata": {
        "id": "wUjfrUttROo-"
      },
      "execution_count": null,
      "outputs": []
    },
    {
      "cell_type": "markdown",
      "source": [
        "The file with radius 10 can be seen from here:\n",
        "https://drive.google.com/file/d/1Fd0FKHfNmuqt3IGhjxFeA60Pugvh3h1Q/view?usp=sharing"
      ],
      "metadata": {
        "id": "ngh7wCMdDDrU"
      }
    },
    {
      "cell_type": "markdown",
      "source": [
        "The file with radius 8 can be seen from here: https://drive.google.com/file/d/1yE66YLQret454Mbx7L2AmjO6fTPFauuB/view?usp=sharing"
      ],
      "metadata": {
        "id": "_vbT4Q9cqnqB"
      }
    },
    {
      "cell_type": "code",
      "source": [
        "df_act = pd.read_csv(\"/content/drive/MyDrive/Colab Notebooks/Cycling-adventures/data/output_data/clustered_summ.csv\")"
      ],
      "metadata": {
        "id": "3KKxnkmXqnF0"
      },
      "execution_count": 6,
      "outputs": []
    },
    {
      "cell_type": "code",
      "source": [
        "clustered_df = df[[\"position_lat\",\"position_long\",\"timestamp\",\"id\"]].merge(df_act[['Cluster',\"id\"]],on='id',how='right')"
      ],
      "metadata": {
        "id": "AGghfs-cr2ce"
      },
      "execution_count": 7,
      "outputs": []
    },
    {
      "cell_type": "code",
      "source": [
        "clustered_df[\"Cluster\"] = clustered_df[\"Cluster\"].astype(str)\n",
        "COLOR = {\"0\": \"red\", \"1\": \"blue\", \"2\": \"green\", \"3\": \"yellow\"}\n",
        "\n",
        "heatmaps = []\n",
        "for case, color in COLOR.items():\n",
        "    # Extract latitude and longitude columns and convert them to a list of lists\n",
        "    heat_data = clustered_df[clustered_df['Cluster'] == case][['position_lat', 'position_long']].values.tolist()\n",
        "\n",
        "    # Create HeatMap layer without the third element (weight or intensity)\n",
        "    heatmap_layer = HeatMap(heat_data, radius=8, max_opacity=0.8, gradient={0.1: color})\n",
        "    heatmaps.append(heatmap_layer)\n",
        "\n",
        "# Create a base map centered at the mean coordinates\n",
        "map_center = [clustered_df['position_lat'].mean(), clustered_df['position_long'].mean()]\n",
        "m = folium.Map(location=map_center, zoom_start=10)\n",
        "\n",
        "# Overlay the HeatMap layers on the base map\n",
        "for heatmap_layer in heatmaps:\n",
        "    heatmap_layer.add_to(m)\n",
        "\n",
        "\n",
        "# Save or display the map\n",
        "m.save('/content/drive/MyDrive/Colab Notebooks/Cycling-adventures/data/output_data/classified_roadmap.html')\n"
      ],
      "metadata": {
        "id": "OOI01yJasfp7"
      },
      "execution_count": 10,
      "outputs": []
    },
    {
      "cell_type": "markdown",
      "source": [
        "The clustered roadmap can be seen from here: https://drive.google.com/file/d/1-2UI2OrZelntQLfUZiTlbnIMXAIyWRMJ/view?usp=sharing"
      ],
      "metadata": {
        "id": "WZn2VEGTzGcu"
      }
    }
  ]
}